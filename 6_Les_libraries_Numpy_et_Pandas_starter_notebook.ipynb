{
  "nbformat": 4,
  "nbformat_minor": 0,
  "metadata": {
    "colab": {
      "name": "#6 - Les libraries Numpy et Pandas",
      "provenance": [],
      "collapsed_sections": []
    },
    "kernelspec": {
      "name": "python3",
      "display_name": "Python 3"
    }
  },
  "cells": [
    {
      "cell_type": "markdown",
      "metadata": {
        "id": "smPU7h6k-Sk0",
        "colab_type": "text"
      },
      "source": [
        ""
      ]
    },
    {
      "cell_type": "markdown",
      "metadata": {
        "id": "LjvCBOom-Jyp",
        "colab_type": "text"
      },
      "source": [
        "# https://colab.research.google.com/"
      ]
    },
    {
      "cell_type": "markdown",
      "metadata": {
        "id": "TPOiWw95-McC",
        "colab_type": "text"
      },
      "source": [
        "# Apprendre à coder en Python pour l'Intelligence Artificielle\n",
        "## Episode 6 - Les libraries Numpy et Pandas\n",
        "\n",
        "<p align=\"center\">\n",
        "<a href=\"https://www.youtube.com/watch?v=qMGjh6rKIgw\" target=\"_blank\" ><img  src=\"https://github.com/anisayari/Youtube-apprendre-python-intelligence-artificielle/blob/master/%233%20-%201er%20Projet%20-%20Construire%20un%20Test%20ADN/cover-serie-3.png?raw=true\" width=\"800\" height=\"auto\"/></a>\n",
        "</p>\n"
      ]
    },
    {
      "cell_type": "markdown",
      "metadata": {
        "id": "Ff2AwdVl-TkX",
        "colab_type": "text"
      },
      "source": [
        "# Numpy\n",
        "\n",
        "Librarie pour calculs sceintifique en Python.\n",
        "\n",
        "<a href=\"https://numpy.org/devdocs/\" target=\"_blank\" >Documentation  </a>\n",
        "\n",
        "<a href=\"https://numpy.org/\" target=\"_blank\" ><img  src=\"https://upload.wikimedia.org/wikipedia/commons/thumb/1/1a/NumPy_logo.svg/1200px-NumPy_logo.svg.png\" width=\"400\" height=\"auto\"/></a>"
      ]
    },
    {
      "cell_type": "code",
      "metadata": {
        "id": "j2AAPCmn_HIu",
        "colab_type": "code",
        "colab": {}
      },
      "source": [
        "#Créer un array\n",
        "#Array , multiple elements and axes (ie.ligne, colonne)\n",
        "import numpy as np\n",
        "#np array (nb : possible de créer des nombres complexes dtype=complex)\n",
        "#np.arange(n) #créer un array de n elements et 1axes\n",
        "#np.zeros(i,j) Créer un array de shape ixj rempli de 0\n",
        "#np.ones(i,j) Créer un array de shape ixj rempli de 1\n",
        "#np.eye(i,j) créer une matrice identité de dimension i,j\n",
        "#np.random.rand(n) créer un array de dimension 1 aléatoire:\n",
        "#np.random.random(size=(i,j)) créer un array de dimension i,j random\n",
        "\n"
      ],
      "execution_count": 0,
      "outputs": []
    },
    {
      "cell_type": "code",
      "metadata": {
        "id": "9j7m7NIU_HOB",
        "colab_type": "code",
        "colab": {}
      },
      "source": [
        "#np.arange(n).reshape(i, j) reformate l'array en array de i element et j axes\n"
      ],
      "execution_count": 0,
      "outputs": []
    },
    {
      "cell_type": "code",
      "metadata": {
        "id": "SaKUnY0AC3q_",
        "colab_type": "code",
        "colab": {}
      },
      "source": [
        "#indexing\n",
        "#Marche de la même facon que les listes pour un array de dimension 1\n",
        "# en multidimension un index est représenté par un tuple array[(i1:j1),(i2:j2)] (i1,j1) = lignes, (i2,j2) = colonnes\n",
        "\n"
      ],
      "execution_count": 0,
      "outputs": []
    },
    {
      "cell_type": "code",
      "metadata": {
        "id": "W7EEhS9hAgcZ",
        "colab_type": "code",
        "colab": {}
      },
      "source": [
        "#np.shape, np.ndim, np.size\n"
      ],
      "execution_count": 0,
      "outputs": []
    },
    {
      "cell_type": "code",
      "metadata": {
        "id": "N9-XLa2WBGvn",
        "colab_type": "code",
        "colab": {}
      },
      "source": [
        "#fonctions mathématique np.cos, np.log, np.exp, np.sqrt etc...\n"
      ],
      "execution_count": 0,
      "outputs": []
    },
    {
      "cell_type": "code",
      "metadata": {
        "id": "JLs5C3AeCVEi",
        "colab_type": "code",
        "colab": {}
      },
      "source": [
        "#fonctions utiles np.sum , np.min, np.max, np.mean"
      ],
      "execution_count": 0,
      "outputs": []
    },
    {
      "cell_type": "markdown",
      "metadata": {
        "id": "P-DleBDPBhfX",
        "colab_type": "text"
      },
      "source": [
        "<a href='https://fr.wikipedia.org/wiki/Matrice_(math%C3%A9matiques)'>  Les matrices </a>\n",
        "\n",
        "<a href='https://fr.wikipedia.org/wiki/Produit_matriciel'> Calcul matriciel (Article Wikipedia) </a>\n",
        "\n",
        "<img  src=\"https://wikimedia.org/api/rest_v1/media/math/render/svg/840716c2745c63bd10c38a0b5ecac966faf0b1ff\" width=\"400\" height=\"auto\"/>\n",
        "<img  src=\"https://upload.wikimedia.org/wikipedia/commons/thumb/1/11/Matrix_multiplication_diagram.svg/188px-Matrix_multiplication_diagram.svg.png\n",
        "\" width=\"100\" height=\"auto\"/>\n"
      ]
    },
    {
      "cell_type": "code",
      "metadata": {
        "id": "8MRnY4jpB3I-",
        "colab_type": "code",
        "colab": {}
      },
      "source": [
        "# produit elements par element *\n",
        "\n"
      ],
      "execution_count": 0,
      "outputs": []
    },
    {
      "cell_type": "code",
      "metadata": {
        "id": "StuzwmrGB9vu",
        "colab_type": "code",
        "colab": {}
      },
      "source": [
        "# produit matriciel @ ou array1.dot(array2)\n",
        "\n"
      ],
      "execution_count": 0,
      "outputs": []
    },
    {
      "cell_type": "code",
      "metadata": {
        "id": "3LzgzSXVGmnZ",
        "colab_type": "code",
        "colab": {}
      },
      "source": [
        "#Transposé .T ou np.transpose()\n",
        "\n"
      ],
      "execution_count": 0,
      "outputs": []
    },
    {
      "cell_type": "code",
      "metadata": {
        "id": "Zch3RCsvG2Pw",
        "colab_type": "code",
        "colab": {}
      },
      "source": [
        "#Matrice inversible https://fr.wikipedia.org/wiki/Matrice_inversible\n",
        "#np.linalg.inv(matrix) matrix carré a non singulière\n",
        "\n"
      ],
      "execution_count": 0,
      "outputs": []
    },
    {
      "cell_type": "markdown",
      "metadata": {
        "id": "4EHl27Kj_HpT",
        "colab_type": "text"
      },
      "source": [
        "# Pandas\n",
        "\n",
        "Librarie de manipulation et d'analyse de données pour Python.\n",
        "\n",
        "<a href=\"https://pandas.pydata.org/docs/user_guide/index.html\" target=\"_blank\" >Documentation  </a>\n",
        "\n",
        "<a href=\"https://pandas.pydata.org/\" target=\"_blank\" ><img  src=\"https://upload.wikimedia.org/wikipedia/commons/thumb/e/ed/Pandas_logo.svg/1200px-Pandas_logo.svg.png\" width=\"400\" height=\"auto\"/></a>"
      ]
    },
    {
      "cell_type": "markdown",
      "metadata": {
        "id": "rdIsASv3ILsd",
        "colab_type": "text"
      },
      "source": [
        "\n",
        "<img  src=\"https://pandas.pydata.org/docs/_images/01_table_dataframe.svg\" width=\"400\" height=\"auto\"/>\n",
        "\n",
        "\n",
        "<img  src=\"https://pandas.pydata.org/docs/_images/02_io_readwrite.svg\" width=\"400\" height=\"auto\"/>\n"
      ]
    },
    {
      "cell_type": "code",
      "metadata": {
        "id": "e6cPnKxe_eAs",
        "colab_type": "code",
        "colab": {}
      },
      "source": [
        "#Les objets en pandas - Series et DataFrame\n",
        "#pd.Series(list/array,index=[...])\n",
        "#pd.Series(dict)\n",
        "#pd.DataFrame(array, index=[...])\n",
        "#pd.DataFrame(dict avec list comme value )\n",
        "import pandas as pd\n",
        "\n",
        "\n"
      ],
      "execution_count": 0,
      "outputs": []
    },
    {
      "cell_type": "code",
      "metadata": {
        "id": "D3S2r-UNMmFf",
        "colab_type": "code",
        "colab": {}
      },
      "source": [
        "#df.head(n) afficher les n première lignes de notre DF\n",
        "\n",
        "#pd.read_csv('https://raw.githubusercontent.com/CSSEGISandData/COVID-19/master/csse_covid_19_data/csse_covid_19_daily_reports/04-19-2020.csv')\n"
      ],
      "execution_count": 0,
      "outputs": []
    },
    {
      "cell_type": "code",
      "metadata": {
        "id": "ed1Eop4UKYuK",
        "colab_type": "code",
        "colab": {}
      },
      "source": [
        "#set_index(), reset_index()index=[], reindex(columns=[]), définir un index\n",
        "\n",
        "\n"
      ],
      "execution_count": 0,
      "outputs": []
    },
    {
      "cell_type": "code",
      "metadata": {
        "id": "0WRJSYgCLUlT",
        "colab_type": "code",
        "colab": {}
      },
      "source": [
        "#renommer des colonnes et index df.rename(columns={old_name:new_name}, index={old_name:new_name}) \n",
        "\n"
      ],
      "execution_count": 0,
      "outputs": []
    },
    {
      "cell_type": "code",
      "metadata": {
        "id": "qYcISGA6Mwun",
        "colab_type": "code",
        "colab": {}
      },
      "source": [
        "#accéder aux données\n",
        "# boolean , selectionner certaines données"
      ],
      "execution_count": 0,
      "outputs": []
    },
    {
      "cell_type": "code",
      "metadata": {
        "id": "wDeM2vneJY1F",
        "colab_type": "code",
        "colab": {}
      },
      "source": [
        "\n",
        "#Series serie[[index]], serie[ : numéro de ligne]\n",
        "#dataframe accéder à une colone df[colonne]\n",
        "\n"
      ],
      "execution_count": 0,
      "outputs": []
    },
    {
      "cell_type": "code",
      "metadata": {
        "id": "Zp5fH-1MKPVE",
        "colab_type": "code",
        "colab": {}
      },
      "source": [
        "#df.loc[nom_index] accéder à la ligne qui correspond a l'index\n",
        "#df.iloc[numéro_ligne] accede aux valeurs d'un certain numéro de ligne\n",
        "\n"
      ],
      "execution_count": 0,
      "outputs": []
    },
    {
      "cell_type": "code",
      "metadata": {
        "id": "3cJkmmfqK4vg",
        "colab_type": "code",
        "colab": {}
      },
      "source": [
        "#loc et iloc peuvent prendre plusieurs dimensions\n",
        "#df.loc[nom_index, colonne] loc et iloc peuvent prendre plusieurs dimensions\n",
        "\n"
      ],
      "execution_count": 0,
      "outputs": []
    },
    {
      "cell_type": "code",
      "metadata": {
        "id": "xOM-VXKNJ1nl",
        "colab_type": "code",
        "colab": {}
      },
      "source": [
        "#modifier les données\n",
        "#df.insert(position, nom_colonne, valeurs) insérer une colonne\n",
        "\n"
      ],
      "execution_count": 0,
      "outputs": []
    },
    {
      "cell_type": "code",
      "metadata": {
        "id": "7_2ogCqO_eGR",
        "colab_type": "code",
        "colab": {}
      },
      "source": [
        "\n"
      ],
      "execution_count": 0,
      "outputs": []
    },
    {
      "cell_type": "code",
      "metadata": {
        "id": "xKhoo1PZ_ePO",
        "colab_type": "code",
        "colab": {}
      },
      "source": [
        "#fonctions utiles df.summary(), df.info(), df.describe(), serie.value_counts()\n",
        "\n"
      ],
      "execution_count": 0,
      "outputs": []
    },
    {
      "cell_type": "code",
      "metadata": {
        "id": "RwEWVhc0LhJH",
        "colab_type": "code",
        "colab": {}
      },
      "source": [
        "# df.copy() copier votre df pour le dupliquer !\n",
        "\n"
      ],
      "execution_count": 0,
      "outputs": []
    }
  ]
}