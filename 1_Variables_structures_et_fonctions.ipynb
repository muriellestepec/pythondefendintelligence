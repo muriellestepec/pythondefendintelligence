{
  "nbformat": 4,
  "nbformat_minor": 0,
  "metadata": {
    "colab": {
      "name": "#1 - Variables, structures et fonctions",
      "provenance": [],
      "collapsed_sections": []
    },
    "kernelspec": {
      "name": "python3",
      "display_name": "Python 3"
    }
  },
  "cells": [
    {
      "cell_type": "markdown",
      "metadata": {
        "id": "DymjVEvUioas",
        "colab_type": "text"
      },
      "source": [
        "# https://colab.research.google.com/"
      ]
    },
    {
      "cell_type": "markdown",
      "metadata": {
        "id": "aBbj0oaibpmj",
        "colab_type": "text"
      },
      "source": [
        "# Apprendre à coder en Python pour l'Intelligence Artificielle\n",
        "Episode 1 - Variables, Structures et fonctions\n",
        "\n",
        "<p align=\"center\">\n",
        "<a href=\"https://youtu.be/8fCtWNnBNFc\" target=\"_blank\" ><img  src=\"https://raw.githubusercontent.com/anisayari/Youtube-apprendre-python-intelligence-artificielle/master/utils/cover-serie-1.png\" width=\"800\" height=\"auto\"/></a>\n",
        "</p>"
      ]
    },
    {
      "cell_type": "markdown",
      "metadata": {
        "id": "860Bw6_ccLC-",
        "colab_type": "text"
      },
      "source": [
        "# Pourquoi Python ?!\n",
        "Python est un langage de haut niveau, facilement compréhensible, accessible et très utilisé.\n",
        "\n",
        "<p align=\"center\">\n",
        "<img  src=\"https://raw.githubusercontent.com/anisayari/Youtube-apprendre-python-intelligence-artificielle/master/utils/1-utils/pq_python.jpg\" width=\"800\" height=\"auto\"/></a>\n",
        "</p>\n",
        "\n",
        "Le top 5 des langages à apprendre en 2020 - Vidéo Youtube\n",
        "\n",
        "<a href=\"https://youtu.be/9NMoIsSOMX4\" target=\"_blank\" ><img  src=\"https://i9.ytimg.com/vi/9NMoIsSOMX4/maxresdefault.jpg?time=1586948789746&sqp=CNzU2_QF&rs=AOn4CLDQb3o52k6WJ6w-3rGlB89JukxbDg\" alt=\"#1-AlDLaT\" width=\"500\" height=\"auto\"/></a>\n"
      ]
    },
    {
      "cell_type": "markdown",
      "metadata": {
        "id": "ywugkqemge0O",
        "colab_type": "text"
      },
      "source": [
        "# Les variables et types de variables"
      ]
    },
    {
      "cell_type": "code",
      "metadata": {
        "id": "--5IMQ_HiKzj",
        "colab_type": "code",
        "colab": {
          "base_uri": "https://localhost:8080/",
          "height": 72
        },
        "outputId": "a55f76f6-eb38-46cc-8d38-78ab845bf090"
      },
      "source": [
        "print('Hello World')\n",
        "print('bonjour')\n",
        "'bonjour'"
      ],
      "execution_count": 3,
      "outputs": [
        {
          "output_type": "stream",
          "text": [
            "Hello World\n",
            "bonjour\n"
          ],
          "name": "stdout"
        },
        {
          "output_type": "execute_result",
          "data": {
            "text/plain": [
              "'bonjour'"
            ]
          },
          "metadata": {
            "tags": []
          },
          "execution_count": 3
        }
      ]
    },
    {
      "cell_type": "code",
      "metadata": {
        "id": "6EnsLQxCp0bx",
        "colab_type": "code",
        "colab": {
          "base_uri": "https://localhost:8080/",
          "height": 35
        },
        "outputId": "dce4265c-a174-4a4a-e2fe-1f0bbd2f0330"
      },
      "source": [
        "a = 10\n",
        "print(f'La variable A = {a}')"
      ],
      "execution_count": 10,
      "outputs": [
        {
          "output_type": "stream",
          "text": [
            "La variable A = 10\n"
          ],
          "name": "stdout"
        }
      ]
    },
    {
      "cell_type": "code",
      "metadata": {
        "id": "KUpLTZ4VoXxe",
        "colab_type": "code",
        "colab": {
          "base_uri": "https://localhost:8080/",
          "height": 126
        },
        "outputId": "e6f28b91-129a-4ee9-8792-8cb755a449f4"
      },
      "source": [
        "#Integer 0,1,2,3 (N) #int\n",
        "variable1 = 10\n",
        "\n",
        "print(variable1)\n",
        "print(type(variable1))\n",
        "\n",
        "#Float 0.5,1.663456534\n",
        "variable2 = 10.0\n",
        "print(variable2)\n",
        "print(type(variable2))\n",
        "\n",
        "#String 'Anis' #str\n",
        "variable3 = 'Olympique de Marseille'\n",
        "print(variable3)\n",
        "print(type(variable3))"
      ],
      "execution_count": 11,
      "outputs": [
        {
          "output_type": "stream",
          "text": [
            "10\n",
            "<class 'int'>\n",
            "10.0\n",
            "<class 'float'>\n",
            "Olympique de Marseille\n",
            "<class 'str'>\n"
          ],
          "name": "stdout"
        }
      ]
    },
    {
      "cell_type": "code",
      "metadata": {
        "id": "DNGbHBHksKyz",
        "colab_type": "code",
        "colab": {
          "base_uri": "https://localhost:8080/",
          "height": 35
        },
        "outputId": "aff09a85-980b-4be7-cf87-6427bd571f98"
      },
      "source": [
        "print(int(15.2))\n",
        "# convertir Float > int, convertir des string (si uniquement des nombres) <> int, "
      ],
      "execution_count": 17,
      "outputs": [
        {
          "output_type": "stream",
          "text": [
            "15\n"
          ],
          "name": "stdout"
        }
      ]
    },
    {
      "cell_type": "code",
      "metadata": {
        "id": "P70SqsP8qv7g",
        "colab_type": "code",
        "colab": {
          "base_uri": "https://localhost:8080/",
          "height": 145
        },
        "outputId": "44166ca8-a8d0-4511-a939-ac5f29c2f5e9"
      },
      "source": [
        "#Boolean True, False, 1, 0 \n",
        "print(1 == 0) #egalité ==\n",
        "\n",
        "print(1 < 0) # inférieur <\n",
        "print(1 <= 0) #inférieur ou égal <=\n",
        "\n",
        "print(1 > 0) #supérieur >\n",
        "print(1 >= 0) #superieur ou égal >=\n",
        "\n",
        "print(1 != 0) #different\n",
        "\n",
        "print(bool(1),bool(0))"
      ],
      "execution_count": 16,
      "outputs": [
        {
          "output_type": "stream",
          "text": [
            "False\n",
            "False\n",
            "False\n",
            "True\n",
            "True\n",
            "True\n",
            "True False\n"
          ],
          "name": "stdout"
        }
      ]
    },
    {
      "cell_type": "code",
      "metadata": {
        "id": "XTCQDwaBsbV9",
        "colab_type": "code",
        "colab": {
          "base_uri": "https://localhost:8080/",
          "height": 90
        },
        "outputId": "a1ab720e-6de8-45a5-882d-53567afc794d"
      },
      "source": [
        "#Tuple (1,0) #se met toujours en parenthèse ()\n",
        "variable4 = (1,0)\n",
        "print(variable4)\n",
        "print(type(variable4))\n",
        "\n",
        "#List [1,0,'OM','PSG','OL'] #index des listes commencent à 0 ie position\n",
        "variable5 = [1,0,'OM','PSG','OL']\n",
        "print(variable5)\n",
        "print(type(variable5))\n",
        "\n",
        "#Dict {'P':'Pomme'} P : key , Pomme: Value {}\n",
        "variable6 = {'P':['Profil','Papa','Peloton','Pomme'],\n",
        "             'Anis':['Eau', 'Clavier', 'Souris']\n",
        "             }\n",
        "\n",
        "print(variable6)\n",
        "print(type(variable6))"
      ],
      "execution_count": 23,
      "outputs": [
        {
          "output_type": "stream",
          "text": [
            "(1, 0)\n",
            "<class 'tuple'>\n",
            "[1, 0, 'OM', 'PSG', 'OL']\n",
            "<class 'list'>\n"
          ],
          "name": "stdout"
        }
      ]
    },
    {
      "cell_type": "code",
      "metadata": {
        "id": "4WrY-4H9ssMR",
        "colab_type": "code",
        "colab": {
          "base_uri": "https://localhost:8080/",
          "height": 35
        },
        "outputId": "6cc41dbf-0498-4648-cd2e-670c5e0ee586"
      },
      "source": [
        "int('10')"
      ],
      "execution_count": 20,
      "outputs": [
        {
          "output_type": "execute_result",
          "data": {
            "text/plain": [
              "10"
            ]
          },
          "metadata": {
            "tags": []
          },
          "execution_count": 20
        }
      ]
    },
    {
      "cell_type": "markdown",
      "metadata": {
        "id": "VPNHjfXNgnBi",
        "colab_type": "text"
      },
      "source": [
        "# Les structures de contrôle"
      ]
    },
    {
      "cell_type": "markdown",
      "metadata": {
        "id": "1DGJNiOdvpmG",
        "colab_type": "text"
      },
      "source": [
        ""
      ]
    },
    {
      "cell_type": "code",
      "metadata": {
        "id": "5XvvLvSFiKOx",
        "colab_type": "code",
        "colab": {
          "base_uri": "https://localhost:8080/",
          "height": 35
        },
        "outputId": "2320a88a-f89a-4e95-b9e9-391f15c0c3df"
      },
      "source": [
        "#if else / elif Permet de mettre des conditions if <condition1> :\n",
        "variable1000 = \"PSG\"\n",
        "\n",
        "if variable1000 == 'PSG':\n",
        "  print(\"c'est le PSG\")\n",
        "elif variable1000 == \"Olympique de Marseille\" :\n",
        "  print(\"c'est l'OM\")\n",
        "else:\n",
        "  print(\"ce n'est ni l'om ni le psg\")"
      ],
      "execution_count": 27,
      "outputs": [
        {
          "output_type": "stream",
          "text": [
            "c'est le PSG\n"
          ],
          "name": "stdout"
        }
      ]
    },
    {
      "cell_type": "code",
      "metadata": {
        "id": "hivl3C9NwE5-",
        "colab_type": "code",
        "colab": {
          "base_uri": "https://localhost:8080/",
          "height": 345
        },
        "outputId": "6331bb5a-7dd8-41cf-d215-6f5c13826b58"
      },
      "source": [
        "#Boucle for <variable> in <list>:  ATTENTION AU BOUCLE INFINI ie sans condition d'arrêt\n",
        "#NEVER REPEAT YOURSELF\n",
        "\n",
        "for i in [0,1,2,3]:\n",
        "  print(i)\n",
        "  print(variable1000)\n",
        "\n",
        "#print(variable1000)\n",
        "#print(variable1000)\n",
        "#print(variable1000)\n",
        "#print(variable1000)\n",
        "#print(variable1000)\n",
        "\n",
        "for i in range(10): #PRINT UNIQUEMENT JUSQU'A 9, CAR COMMENCE A 0\n",
        "  print(i)\n",
        "\n",
        "del i"
      ],
      "execution_count": 41,
      "outputs": [
        {
          "output_type": "stream",
          "text": [
            "0\n",
            "PSG\n",
            "1\n",
            "PSG\n",
            "2\n",
            "PSG\n",
            "3\n",
            "PSG\n",
            "0\n",
            "1\n",
            "2\n",
            "3\n",
            "4\n",
            "5\n",
            "6\n",
            "7\n",
            "8\n",
            "9\n"
          ],
          "name": "stdout"
        }
      ]
    },
    {
      "cell_type": "code",
      "metadata": {
        "id": "OZJ5N-cXx2AJ",
        "colab_type": "code",
        "colab": {
          "base_uri": "https://localhost:8080/",
          "height": 171
        },
        "outputId": "996e9968-0dd4-4406-868f-71d504ae1f10"
      },
      "source": [
        "print(i)"
      ],
      "execution_count": 42,
      "outputs": [
        {
          "output_type": "error",
          "ename": "NameError",
          "evalue": "ignored",
          "traceback": [
            "\u001b[0;31m---------------------------------------------------------------------------\u001b[0m",
            "\u001b[0;31mNameError\u001b[0m                                 Traceback (most recent call last)",
            "\u001b[0;32m<ipython-input-42-3b184248ad5a>\u001b[0m in \u001b[0;36m<module>\u001b[0;34m()\u001b[0m\n\u001b[0;32m----> 1\u001b[0;31m \u001b[0mprint\u001b[0m\u001b[0;34m(\u001b[0m\u001b[0mi\u001b[0m\u001b[0;34m)\u001b[0m\u001b[0;34m\u001b[0m\u001b[0;34m\u001b[0m\u001b[0m\n\u001b[0m",
            "\u001b[0;31mNameError\u001b[0m: name 'i' is not defined"
          ]
        }
      ]
    },
    {
      "cell_type": "code",
      "metadata": {
        "id": "o8Xb9YNWxSpG",
        "colab_type": "code",
        "colab": {
          "base_uri": "https://localhost:8080/",
          "height": 199
        },
        "outputId": "f1702930-ab03-4178-e26d-f5f050fee191"
      },
      "source": [
        "#while <condition> pas résolu, on boucle\n",
        "i=0\n",
        "while(i!=10):\n",
        "  print(i)\n",
        "  i = i+1"
      ],
      "execution_count": 45,
      "outputs": [
        {
          "output_type": "stream",
          "text": [
            "0\n",
            "1\n",
            "2\n",
            "3\n",
            "4\n",
            "5\n",
            "6\n",
            "7\n",
            "8\n",
            "9\n"
          ],
          "name": "stdout"
        }
      ]
    },
    {
      "cell_type": "markdown",
      "metadata": {
        "id": "tPBhtowpgq5R",
        "colab_type": "text"
      },
      "source": [
        "# Les fonctions"
      ]
    },
    {
      "cell_type": "code",
      "metadata": {
        "id": "yXquuZ_siKiZ",
        "colab_type": "code",
        "colab": {
          "base_uri": "https://localhost:8080/",
          "height": 35
        },
        "outputId": "3956637a-a86b-494f-c64e-0b18e60d09ba"
      },
      "source": [
        "#Fonction def NOM_FONCTION(ARGUMENT) Argument = les variables qui vont être utilisées dans la fonction\n",
        "def mean(number1, number2):\n",
        "  mean_of_two_numbers = (number1 + number2) / 2\n",
        "  return mean_of_two_numbers\n",
        "\n",
        "#print()\n",
        "\n",
        "print(mean(10,20))\n",
        "print(mean(15,20))\n",
        "print(mean(432452343,432432432))"
      ],
      "execution_count": 47,
      "outputs": [
        {
          "output_type": "execute_result",
          "data": {
            "text/plain": [
              "432442387.5"
            ]
          },
          "metadata": {
            "tags": []
          },
          "execution_count": 47
        }
      ]
    },
    {
      "cell_type": "code",
      "metadata": {
        "id": "6Od08Km20JYr",
        "colab_type": "code",
        "colab": {
          "base_uri": "https://localhost:8080/",
          "height": 171
        },
        "outputId": "aaded745-a4f3-4c9c-a9da-c1fa80ee2bca"
      },
      "source": [
        "mean_of_two_numbers #Les variables des fonctions ne vivent pas à l'extérieur des fonctions"
      ],
      "execution_count": 48,
      "outputs": [
        {
          "output_type": "error",
          "ename": "NameError",
          "evalue": "ignored",
          "traceback": [
            "\u001b[0;31m---------------------------------------------------------------------------\u001b[0m",
            "\u001b[0;31mNameError\u001b[0m                                 Traceback (most recent call last)",
            "\u001b[0;32m<ipython-input-48-9618e836352a>\u001b[0m in \u001b[0;36m<module>\u001b[0;34m()\u001b[0m\n\u001b[0;32m----> 1\u001b[0;31m \u001b[0mmean_of_two_numbers\u001b[0m\u001b[0;34m\u001b[0m\u001b[0;34m\u001b[0m\u001b[0m\n\u001b[0m",
            "\u001b[0;31mNameError\u001b[0m: name 'mean_of_two_numbers' is not defined"
          ]
        }
      ]
    }
  ]
}